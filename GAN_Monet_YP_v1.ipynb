{
  "cells": [
    {
      "cell_type": "code",
      "execution_count": 1,
      "id": "979247ad-2d53-413c-8f4e-962ccb553473",
      "metadata": {
        "id": "979247ad-2d53-413c-8f4e-962ccb553473",
        "outputId": "7d8a65d4-7b6e-45a1-e09f-f84284268b6c",
        "colab": {
          "base_uri": "https://localhost:8080/"
        }
      },
      "outputs": [
        {
          "output_type": "stream",
          "name": "stdout",
          "text": [
            "/kaggle/input 0\n"
          ]
        }
      ],
      "source": [
        "import numpy as np # linear algebra\n",
        "import pandas as pd # data processing, CSV file I/O (e.g. pd.read_csv)\n",
        "import tensorflow as tf\n",
        "from tensorflow.io.gfile import glob\n",
        "import os\n",
        "import matplotlib.pyplot as plt\n",
        "import tensorflow.keras as keras\n",
        "import tensorflow.keras.layers as layers\n",
        "from sklearn.decomposition import PCA\n",
        "from tensorflow.keras.preprocessing.image import load_img\n",
        "from tensorflow.keras.preprocessing.image import ImageDataGenerator\n",
        "import shutil\n",
        "import PIL\n",
        "# Input data files are available in the read-only \"../input/\" directory\n",
        "# For example, running this (by clicking run or pressing Shift+Enter) will list all files under the input directory\n",
        "import os\n",
        "### Setting my path to the input file\n",
        "#os.chdir(\"/kaggle/input/gan-getting-started\")\n",
        "for dirname, _, filenames in os.walk('/kaggle/input'):\n",
        "    print(dirname, len(os.listdir(dirname)))\n",
        "AUTOTUNE = tf.data.experimental.AUTOTUNE\n"
      ]
    },
    {
      "cell_type": "code",
      "source": [
        "from google.colab import drive\n",
        "drive.mount('/content/drive')\n"
      ],
      "metadata": {
        "id": "AKLsssWA3jtS",
        "outputId": "740e9da8-6efa-4a99-cd64-a652f8b229f1",
        "colab": {
          "base_uri": "https://localhost:8080/"
        }
      },
      "id": "AKLsssWA3jtS",
      "execution_count": 2,
      "outputs": [
        {
          "output_type": "stream",
          "name": "stdout",
          "text": [
            "Mounted at /content/drive\n"
          ]
        }
      ]
    },
    {
      "cell_type": "code",
      "source": [
        "%cd /content/drive/My Drive/gan-getting-started"
      ],
      "metadata": {
        "id": "vsG9NdtB3xFW",
        "outputId": "dae1967c-9a11-4d5f-e9f4-d4618663d6cb",
        "colab": {
          "base_uri": "https://localhost:8080/"
        }
      },
      "id": "vsG9NdtB3xFW",
      "execution_count": 3,
      "outputs": [
        {
          "output_type": "stream",
          "name": "stdout",
          "text": [
            "/content/drive/My Drive/gan-getting-started\n"
          ]
        }
      ]
    },
    {
      "cell_type": "code",
      "source": [],
      "metadata": {
        "id": "CN-h0LF_43ZT"
      },
      "id": "CN-h0LF_43ZT",
      "execution_count": null,
      "outputs": []
    }
  ],
  "metadata": {
    "kernelspec": {
      "display_name": "Python 3",
      "name": "python3"
    },
    "language_info": {
      "codemirror_mode": {
        "name": "ipython",
        "version": 3
      },
      "file_extension": ".py",
      "mimetype": "text/x-python",
      "name": "python",
      "nbconvert_exporter": "python",
      "pygments_lexer": "ipython3",
      "version": "3.11.5"
    },
    "colab": {
      "provenance": [],
      "gpuType": "T4"
    },
    "accelerator": "GPU"
  },
  "nbformat": 4,
  "nbformat_minor": 5
}