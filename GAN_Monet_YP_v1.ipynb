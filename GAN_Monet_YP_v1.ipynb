{
  "cells": [
    {
      "cell_type": "code",
      "execution_count": 23,
      "id": "979247ad-2d53-413c-8f4e-962ccb553473",
      "metadata": {
        "id": "979247ad-2d53-413c-8f4e-962ccb553473",
        "outputId": "4c20d627-4ceb-41cd-db82-b825211180b3",
        "colab": {
          "base_uri": "https://localhost:8080/"
        }
      },
      "outputs": [
        {
          "output_type": "stream",
          "name": "stdout",
          "text": [
            "/kaggle/input 0\n"
          ]
        }
      ],
      "source": [
        "import numpy as np # linear algebra\n",
        "import pandas as pd # data processing, CSV file I/O (e.g. pd.read_csv)\n",
        "import tensorflow as tf\n",
        "from tensorflow.io.gfile import glob\n",
        "import os\n",
        "import matplotlib.pyplot as plt\n",
        "import tensorflow.keras as keras\n",
        "import tensorflow.keras.layers as layers\n",
        "from sklearn.decomposition import PCA\n",
        "from tensorflow.keras.preprocessing.image import load_img\n",
        "from tensorflow.keras.preprocessing.image import ImageDataGenerator\n",
        "import shutil\n",
        "import PIL\n",
        "# Input data files are available in the read-only \"../input/\" directory\n",
        "# For example, running this (by clicking run or pressing Shift+Enter) will list all files under the input directory\n",
        "import os\n",
        "### Setting my path to the input file\n",
        "#os.chdir(\"/kaggle/input/gan-getting-started\")\n",
        "for dirname, _, filenames in os.walk('/kaggle/input'):\n",
        "    print(dirname, len(os.listdir(dirname)))\n",
        "AUTOTUNE = tf.data.experimental.AUTOTUNE\n"
      ]
    },
    {
      "cell_type": "code",
      "source": [
        "from google.colab import drive\n",
        "drive.mount('/content/drive')\n"
      ],
      "metadata": {
        "id": "AKLsssWA3jtS",
        "outputId": "cdc577a6-10e2-4897-f1be-cd12dd3d5967",
        "colab": {
          "base_uri": "https://localhost:8080/"
        }
      },
      "id": "AKLsssWA3jtS",
      "execution_count": 24,
      "outputs": [
        {
          "output_type": "stream",
          "name": "stdout",
          "text": [
            "Drive already mounted at /content/drive; to attempt to forcibly remount, call drive.mount(\"/content/drive\", force_remount=True).\n"
          ]
        }
      ]
    },
    {
      "cell_type": "code",
      "source": [
        "%cd /content/drive/My Drive/gan-getting-started"
      ],
      "metadata": {
        "id": "vsG9NdtB3xFW",
        "outputId": "ffd70973-93c6-4729-d24c-315eed6671d8",
        "colab": {
          "base_uri": "https://localhost:8080/"
        }
      },
      "id": "vsG9NdtB3xFW",
      "execution_count": 25,
      "outputs": [
        {
          "output_type": "stream",
          "name": "stdout",
          "text": [
            "/content/drive/My Drive/gan-getting-started\n"
          ]
        }
      ]
    },
    {
      "cell_type": "code",
      "source": [
        "Monet_files = glob(str('./monet_tfrec/*.tfrec'))\n",
        "print('Monet TFRecord Files:', len(Monet_files))\n",
        "Photo_files = glob(str('./photo_tfrec/*.tfrec'))\n",
        "print('Photo TFRecord Files:', len(Photo_files))"
      ],
      "metadata": {
        "id": "CN-h0LF_43ZT",
        "outputId": "39683fa3-5f85-4140-db17-08732fee5795",
        "colab": {
          "base_uri": "https://localhost:8080/"
        }
      },
      "id": "CN-h0LF_43ZT",
      "execution_count": 27,
      "outputs": [
        {
          "output_type": "stream",
          "name": "stdout",
          "text": [
            "Monet TFRecord Files: 5\n",
            "Photo TFRecord Files: 20\n"
          ]
        }
      ]
    },
    {
      "cell_type": "code",
      "source": [],
      "metadata": {
        "id": "DV-ansp09nsX"
      },
      "id": "DV-ansp09nsX",
      "execution_count": null,
      "outputs": []
    }
  ],
  "metadata": {
    "kernelspec": {
      "display_name": "Python 3",
      "name": "python3"
    },
    "language_info": {
      "codemirror_mode": {
        "name": "ipython",
        "version": 3
      },
      "file_extension": ".py",
      "mimetype": "text/x-python",
      "name": "python",
      "nbconvert_exporter": "python",
      "pygments_lexer": "ipython3",
      "version": "3.11.5"
    },
    "colab": {
      "provenance": [],
      "gpuType": "T4"
    },
    "accelerator": "GPU"
  },
  "nbformat": 4,
  "nbformat_minor": 5
}